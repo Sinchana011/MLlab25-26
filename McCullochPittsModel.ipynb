{
  "nbformat": 4,
  "nbformat_minor": 0,
  "metadata": {
    "colab": {
      "provenance": []
    },
    "kernelspec": {
      "name": "python3",
      "display_name": "Python 3"
    },
    "language_info": {
      "name": "python"
    }
  },
  "cells": [
    {
      "cell_type": "code",
      "execution_count": null,
      "metadata": {
        "colab": {
          "base_uri": "https://localhost:8080/"
        },
        "id": "oFNYrzMKCFyl",
        "outputId": "c48f5517-870a-4e14-cbf6-2f1e523cecd9"
      },
      "outputs": [
        {
          "output_type": "stream",
          "name": "stdout",
          "text": [
            "AND gate\n",
            "\n",
            "x1   x2   y\n",
            "0    0    0\n",
            "0    1    0\n",
            "1    0    0\n",
            "1    1    1\n"
          ]
        }
      ],
      "source": [
        "# McCulloch Pitts model\n",
        "# AND gate\n",
        "\n",
        "def mcp(x1, x2, w1, w2, theta):\n",
        "  sum = w1*x1 + w2*x2\n",
        "\n",
        "  if(sum >= theta):\n",
        "    return 1\n",
        "  else:\n",
        "    return 0\n",
        "\n",
        "print('AND gate\\n')\n",
        "print('x1',' ','x2',' ','y')\n",
        "for i in [0,1]:\n",
        "  for j in [0,1]:\n",
        "    y = mcp(i,j,1,1,2)\n",
        "    print(i, '  ',j,'  ',y)"
      ]
    },
    {
      "cell_type": "code",
      "source": [
        "# OR gate\n",
        "def mcp(x1, x2, w1, w2, theta):\n",
        "  sum = w1*x1 + w2*x2\n",
        "\n",
        "  if(sum >= theta):\n",
        "    return 1\n",
        "  else:\n",
        "    return 0\n",
        "\n",
        "print('OR gate\\n')\n",
        "print('x1',' ','x2',' ','y')\n",
        "for i in [0,1]:\n",
        "  for j in [0,1]:\n",
        "    y = mcp(i,j,1,1,1)\n",
        "    print(i, '  ',j,'  ',y)"
      ],
      "metadata": {
        "colab": {
          "base_uri": "https://localhost:8080/"
        },
        "id": "EKhcSpv0J2cE",
        "outputId": "21a8584a-a0cb-40ad-cb5a-f528d98db9cf"
      },
      "execution_count": null,
      "outputs": [
        {
          "output_type": "stream",
          "name": "stdout",
          "text": [
            "OR gate\n",
            "\n",
            "x1   x2   y\n",
            "0    0    0\n",
            "0    1    1\n",
            "1    0    1\n",
            "1    1    1\n"
          ]
        }
      ]
    },
    {
      "cell_type": "code",
      "source": [
        "# XOR gate\n",
        "\n",
        "def Not(x):\n",
        "  if(x==0):\n",
        "    return 1\n",
        "  else:\n",
        "    return 0\n",
        "\n",
        "def And(x,y):\n",
        "  if(x+y==2):\n",
        "    return 1\n",
        "  else:\n",
        "    return 0\n",
        "\n",
        "def Or(x,y):\n",
        "  if(x+y>=1):\n",
        "    return 1\n",
        "  else:\n",
        "    return 0\n",
        "\n",
        "def XOR(x, y):\n",
        "    p1 = And(x, Not(y))\n",
        "    p2 = And(Not(x), y)\n",
        "    return Or(p1, p2)\n",
        "\n",
        "print('XOR gate\\n')\n",
        "print('x1',' ','x2',' ','y')\n",
        "for i in [0,1]:\n",
        "  for j in [0,1]:\n",
        "    print(i, '  ',j,'  ',XOR(i,j))"
      ],
      "metadata": {
        "colab": {
          "base_uri": "https://localhost:8080/"
        },
        "id": "r413hNJLLYDV",
        "outputId": "8afed9b6-d039-4832-c15f-572f8feadc7f"
      },
      "execution_count": 8,
      "outputs": [
        {
          "output_type": "stream",
          "name": "stdout",
          "text": [
            "XOR gate\n",
            "\n",
            "x1   x2   y\n",
            "0    0    0\n",
            "0    1    1\n",
            "1    0    1\n",
            "1    1    0\n"
          ]
        }
      ]
    }
  ]
}